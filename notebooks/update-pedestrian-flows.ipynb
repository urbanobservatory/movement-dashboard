{
 "cells": [
  {
   "cell_type": "code",
   "execution_count": null,
   "metadata": {},
   "outputs": [],
   "source": [
    "import pandas as pd\n",
    "import numpy as np\n",
    "import json\n",
    "import math\n",
    "import pickle\n",
    "import urllib.request\n",
    "import dateutil.parser\n",
    "import dateutil.rrule\n",
    "import dateutil.tz\n",
    "import datetime\n",
    "import sys\n",
    "import gc\n",
    "import re"
   ]
  },
  {
   "cell_type": "code",
   "execution_count": null,
   "metadata": {},
   "outputs": [],
   "source": [
    "tzUTC = dateutil.tz.gettz('UTC')\n",
    "tzLocal = dateutil.tz.gettz('Europe/London')\n",
    "\n",
    "dateToday = datetime.datetime.combine(datetime.date.today(), datetime.datetime.min.time())\n",
    "\n",
    "# Load in baseline data that's obtained month-by-month in the baseline data script\n",
    "peopleDataRaw = pickle.load(open('../cache/baseline-pedestrian-flow-api-json.pkl', 'rb'))"
   ]
  },
  {
   "cell_type": "code",
   "execution_count": null,
   "metadata": {},
   "outputs": [],
   "source": [
    "peopleDataRequestSince = 0\n",
    "peopleDataBaselineStart = sys.maxsize\n",
    "\n",
    "for sensor in peopleDataRaw:\n",
    "    for variable in sensor['data']:\n",
    "        for record in sensor['data'][variable]:\n",
    "            if record['Timestamp'] > peopleDataRequestSince:\n",
    "                peopleDataRequestSince = record['Timestamp']\n",
    "            if record['Timestamp'] < peopleDataBaselineStart:\n",
    "                peopleDataBaselineStart = record['Timestamp']\n",
    "            \n",
    "peopleDataRequestSince = datetime.datetime.fromtimestamp(peopleDataRequestSince / 1000)\n",
    "peopleDataBaselineStart = datetime.datetime.fromtimestamp(peopleDataBaselineStart / 1000)\n",
    "\n",
    "print('Using baseline profile data for each cross line from %s until %s' % (peopleDataBaselineStart, peopleDataRequestSince))"
   ]
  },
  {
   "cell_type": "code",
   "execution_count": null,
   "metadata": {
    "colab": {},
    "colab_type": "code",
    "id": "s4KbF-AAk7QH"
   },
   "outputs": [],
   "source": [
    "# Add to the baseline data the most recent data\n",
    "peopleRequestBase = 'https://newcastle.urbanobservatory.ac.uk/api/v1.1/sensors/data/json/'\n",
    "peopleRequestVariables = [\n",
    "    'Walking North East',\n",
    "    'Walking North West',\n",
    "    'Walking South East',\n",
    "    'Walking North',\n",
    "    'Walking South',\n",
    "    'Walking East',\n",
    "    'Walking West'\n",
    "]\n",
    "peopleRequestIRI = ('%s?variable=%s&starttime=%s&endtime=%s') % (\n",
    "    peopleRequestBase,\n",
    "    ','.join(str(x).replace(' ', '%20') for x in peopleRequestVariables),\n",
    "    (peopleDataRequestSince + pd.Timedelta(seconds=1)).strftime('%Y%m%d%H%M%S'),\n",
    "    (dateToday + pd.Timedelta(days=1.5)).strftime('%Y%m%d%H%M%S')\n",
    ")\n",
    "\n",
    "print('Loading recent data...')\n",
    "peopleDataWindow = json.loads(\n",
    "  urllib\n",
    "    .request\n",
    "    .urlopen(peopleRequestIRI)\n",
    "    .read()\n",
    "    .decode('utf-8')\n",
    ")['sensors']\n",
    "\n",
    "for sensor in peopleDataWindow:\n",
    "    for variable in sensor['data']:\n",
    "        targetSensor = next(s for s in peopleDataRaw if s['Sensor Name'] == sensor['Sensor Name'])\n",
    "\n",
    "        if variable not in targetSensor['data']:\n",
    "            continue\n",
    "\n",
    "        targetVariable = targetSensor['data'][variable]\n",
    "\n",
    "        print('  Found %u recent observations and %u baseline observations for %s on %s' % (\n",
    "            len(sensor['data'][variable]),\n",
    "            len(targetSensor['data'][variable]),\n",
    "            variable,\n",
    "            targetSensor['Sensor Name']['0']\n",
    "        ))\n",
    "\n",
    "        targetVariable.extend(sensor['data'][variable])"
   ]
  },
  {
   "cell_type": "code",
   "execution_count": null,
   "metadata": {
    "colab": {
     "base_uri": "https://localhost:8080/",
     "height": 35
    },
    "colab_type": "code",
    "id": "l9Nx_ycUk7QL",
    "outputId": "f76d8670-72f5-48d9-cbf4-10aa020bf970"
   },
   "outputs": [],
   "source": [
    "print('Obtained data from %u sensors.' % len(peopleDataRaw))"
   ]
  },
  {
   "cell_type": "code",
   "execution_count": null,
   "metadata": {
    "colab": {},
    "colab_type": "code",
    "id": "HzcX6srAgiFf"
   },
   "outputs": [],
   "source": [
    "# Number of seconds to resample the pedestrian data to for all subsequent processing\n",
    "peopleCountInterval = 900"
   ]
  },
  {
   "cell_type": "code",
   "execution_count": null,
   "metadata": {
    "colab": {
     "base_uri": "https://localhost:8080/",
     "height": 293
    },
    "colab_type": "code",
    "id": "nO0LAq5ek7QQ",
    "outputId": "a36727bb-0a32-4ae4-98b6-1ae2693f7ee6"
   },
   "outputs": [],
   "source": [
    "cameraFriendlyNames = {\n",
    "    #'PER_PEOPLE_BLACKETT-NORTHUMBERLAND-W': 'Blackett St pavement (north side) outside Rox',\n",
    "    #'PER_PEOPLE_BLACKETT-BOOTS': 'Blackett St outside Boots',\n",
    "    'PER_PEOPLE_THE_CORE_LINE_0': 'Blue Star Square at Newcastle Helix (east side)',\n",
    "    'PER_PEOPLE_THE_CORE_LINE_1': 'Blue Star Square at Newcastle Helix (west side)',\n",
    "    'PER_PEOPLE_USB_LINE_0': 'Science Square at Newcastle Helix',\n",
    "    'PER_PEOPLE_NORTHUMERLAND_LINE_LONG_DISTANCE_HEAD_0': 'Northumberland St near Fenwick (west side)',\n",
    "    'PER_PEOPLE_NORTHUMERLAND_LINE_LONG_DISTANCE_HEAD_1': 'Northumberland St near Fenwick (east side)',\n",
    "    'PER_PEOPLE_NORTHUMERLAND_LINE_MID_DISTANCE_HEAD_0': 'Northumberland St near TK Maxx',\n",
    "    'PER_PEOPLE_NORTHUMERLAND_LINE_SHORT_DISTANCE_HEAD_0': 'Pilgrim St (west side) pavement near Goldsmiths',\n",
    "    'PER_PEOPLE_NORTHUMERLAND_LINE_SHORT_DISTANCE_HEAD_1': 'Pilgrim St crossing island between Blackett St and New Bridge St West',\n",
    "    'PER_PEOPLE_NORTHUMERLAND_LINE_SHORT_DISTANCE_HEAD_2': 'Pilgrim St (east side) pavement near The Stack',\n",
    "    'PER_PEOPLE_NORTHUMERLAND_LINE_SHORT_DISTANCE_HEAD_3': 'Pavement (south side) corner Pilgrim St and Blackett St',\n",
    "    'PER_PEOPLE_NORTHUMERLAND_LINE_SHORT_DISTANCE_HEAD_4': 'Pavement (south side) corner Pilgrim St and New Bridge St West',\n",
    "    'PER_PEOPLE_NORTHUMERLAND_LINE_SHORT_DISTANCE_HEAD_5': 'Blackett St crossing from Pilgrim St to Northumberland St (west side)',\n",
    "    'PER_PEOPLE_NORTHUMERLAND_LINE_SHORT_DISTANCE_HEAD_6': 'New Bridge St West crossing Pilgrim St to Northumberland St (east side)'\n",
    "}\n",
    "\n",
    "peopleCountFrames = {}\n",
    "\n",
    "for sensor in peopleDataRaw:\n",
    "    dfSensor = None\n",
    "    \n",
    "    if sensor['Sensor Name']['0'] not in cameraFriendlyNames:\n",
    "        continue\n",
    "        \n",
    "    cameraName = cameraFriendlyNames[sensor['Sensor Name']['0']]\n",
    "    \n",
    "    for variable in sensor['data'].keys():\n",
    "        # Skip vehicle counts or bus data\n",
    "        if 'Walking' not in variable:\n",
    "            continue\n",
    "        \n",
    "        # Ignore everything but the timestamp and the value\n",
    "        dfPeopleTs = pd.DataFrame.from_records(sensor['data'][variable], columns=['Timestamp', 'Value'])\n",
    "        \n",
    "        # Timestamps are milliseconds since 1970 (epoch), so convert them to proper timestamps\n",
    "        dfPeopleTs['Timestamp'] = (dfPeopleTs['Timestamp'].astype(int) / 1000) \\\n",
    "            .apply(lambda t: datetime.datetime.fromtimestamp(t).replace(tzinfo=tzUTC).astimezone(tzLocal))\n",
    "        \n",
    "        dfPeopleTs = dfPeopleTs.rename(columns={'Value': variable})\n",
    "        dfPeopleTs.set_index('Timestamp', inplace=True, drop=True)\n",
    "        \n",
    "        if dfSensor is None:\n",
    "            dfSensor = dfPeopleTs\n",
    "        else:\n",
    "            dfSensor = dfSensor.join(dfPeopleTs)\n",
    "    \n",
    "    if dfSensor is None:\n",
    "        print('No data available from \"%s\" camera.' % cameraName)\n",
    "        continue\n",
    "    else:\n",
    "        print('Data from \"%s\" camera has been resampled to %u second intervals.' % (cameraName, peopleCountInterval))\n",
    "    \n",
    "    dfSensor = dfSensor.resample('%us' % peopleCountInterval).apply(lambda x: np.sum(x.values))\n",
    "    peopleCountFrames[cameraName] = dfSensor\n",
    "    \n",
    "peopleDataRaw = None\n",
    "gc.collect() ;"
   ]
  },
  {
   "cell_type": "code",
   "execution_count": null,
   "metadata": {
    "colab": {
     "base_uri": "https://localhost:8080/",
     "height": 413
    },
    "colab_type": "code",
    "id": "aJJTM4phk7QT",
    "outputId": "86424c66-8454-40d3-ad63-87c3393493d5"
   },
   "outputs": [],
   "source": [
    "# If you need to preview the data from one of the cameras...\n",
    "testCam = list(peopleCountFrames.keys())[0]\n",
    "print(testCam)\n",
    "peopleCountFrames[testCam]"
   ]
  },
  {
   "cell_type": "code",
   "execution_count": null,
   "metadata": {
    "colab": {},
    "colab_type": "code",
    "id": "ExE5Ulih1KDJ"
   },
   "outputs": [],
   "source": [
    "pickle.dump(peopleCountFrames, open('../cache/recent-pedestrian-flows-pd.pkl', 'wb'))"
   ]
  },
  {
   "cell_type": "code",
   "execution_count": null,
   "metadata": {
    "colab": {},
    "colab_type": "code",
    "id": "ExE5Ulih1KDJ"
   },
   "outputs": [],
   "source": [
    "peopleCountCombined = None\n",
    "\n",
    "for sensor in peopleCountFrames:\n",
    "    if peopleCountCombined is None:\n",
    "        peopleCountCombined = peopleCountFrames[sensor].add_prefix('%s: ' % sensor)\n",
    "    else:\n",
    "        peopleCountCombined = peopleCountCombined.join(peopleCountFrames[sensor].add_prefix('%s: ' % sensor))\n",
    "        gc.collect()\n",
    "    \n",
    "peopleCountCombined.to_csv('../output/recent-pedestrian-flows-pd.csv')\n",
    "\n",
    "gc.collect()"
   ]
  },
  {
   "cell_type": "code",
   "execution_count": null,
   "metadata": {},
   "outputs": [],
   "source": []
  },
  {
   "cell_type": "code",
   "execution_count": null,
   "metadata": {},
   "outputs": [],
   "source": []
  }
 ],
 "metadata": {
  "kernelspec": {
   "display_name": "Python 3",
   "language": "python",
   "name": "python3"
  },
  "language_info": {
   "codemirror_mode": {
    "name": "ipython",
    "version": 3
   },
   "file_extension": ".py",
   "mimetype": "text/x-python",
   "name": "python",
   "nbconvert_exporter": "python",
   "pygments_lexer": "ipython3",
   "version": "3.7.6"
  }
 },
 "nbformat": 4,
 "nbformat_minor": 4
}
