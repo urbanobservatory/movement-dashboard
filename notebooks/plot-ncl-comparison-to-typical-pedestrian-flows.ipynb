{
 "cells": [
  {
   "cell_type": "markdown",
   "metadata": {
    "colab_type": "text",
    "id": "T3xno7xM7REC"
   },
   "source": [
    "# Pedestrian flows in Newcastle City Centre\n",
    "\n",
    "These graphs analyse the pedestrian count data obtained from a small number of CCTV cameras in the centre of Newcastle, processed in real-time using computer vision to count pedestrians that cross lines. The direction of travel is also obtained."
   ]
  },
  {
   "cell_type": "code",
   "execution_count": null,
   "metadata": {
    "colab": {},
    "colab_type": "code",
    "id": "vga1znuak7QB"
   },
   "outputs": [],
   "source": [
    "import matplotlib\n",
    "import pandas as pd\n",
    "import numpy as np\n",
    "import json\n",
    "import math\n",
    "import pickle\n",
    "import urllib.request\n",
    "import dateutil.tz\n",
    "import dateutil.parser\n",
    "import dateutil.rrule\n",
    "import datetime\n",
    "import matplotlib.pyplot as plt\n",
    "import matplotlib.dates as mdates\n",
    "import sys\n",
    "import gc\n",
    "import re\n",
    "from IPython.display import display, HTML\n",
    "from textwrap import wrap\n",
    "\n",
    "matplotlib.rcParams.update({\n",
    "    'font.size': 13,\n",
    "    'timezone': 'Europe/London'\n",
    "})"
   ]
  },
  {
   "cell_type": "code",
   "execution_count": null,
   "metadata": {},
   "outputs": [],
   "source": [
    "# Used across most of the plots for people flows\n",
    "tzLocal = dateutil.tz.gettz('Europe/London')\n",
    "dateToday = datetime.datetime.combine(datetime.date.today(), datetime.datetime.min.time()).replace(tzinfo=tzLocal)\n",
    "peopleCountInterval = 900\n",
    "peopleCountFrames = pickle.load(open('../cache/recent-pedestrian-flows-pd.pkl', 'rb'))\n",
    "\n",
    "dateBaselineEnd = datetime.datetime.strptime('2020-03-15T23:59:59Z', '%Y-%m-%dT%H:%M:%SZ').replace(tzinfo=tzLocal)\n",
    "\n",
    "# TODO: Make this reflect the last entry in the frame, not the time now\n",
    "print('Last data obtained %s' \n",
    "    % (np.max(list(map(lambda f: np.max(f.index), peopleCountFrames.values()))).strftime('%d %B %Y %H:%M')))"
   ]
  },
  {
   "cell_type": "code",
   "execution_count": null,
   "metadata": {
    "colab": {},
    "colab_type": "code",
    "id": "ExE5Ulih1KDJ"
   },
   "outputs": [],
   "source": [
    "colourUp = '#f64a8a'\n",
    "colourDown = '#233067'\n",
    "# Ignore non-numeric columns in the dataframe\n",
    "plottableTypes = ['int16', 'int32', 'int64', 'float16', 'float32', 'float64']\n",
    "perMinuteFactor = (peopleCountInterval / 60)"
   ]
  },
  {
   "cell_type": "markdown",
   "metadata": {
    "colab_type": "text",
    "id": "Hb7fIHwzF1jg"
   },
   "source": [
    "## Each camera compared to normal daily profiles and averages\n",
    "\n",
    "Some of the cameras aren't processed in real-time so are skipped in these graphs.\n",
    "\n",
    "* The shaded area represents a normal percentile boundary obtained for that day of the week during the last year before the outbreak.\n",
    "* The dotted line represents the median, so an average on that day of the week.\n",
    "* The solid line represents the actual observed data.\n",
    "\n",
    "You can [download the underlying data as a CSV file](https://covid.view.urbanobservatory.ac.uk/output/recent-pedestrian-flows-pd.csv) or access it through [one of our APIs](https://newcastle.urbanobservatory.ac.uk/api_docs/)."
   ]
  },
  {
   "cell_type": "code",
   "execution_count": null,
   "metadata": {
    "colab": {},
    "colab_type": "code",
    "id": "cKu8Q77bk7Qb"
   },
   "outputs": [],
   "source": [
    "lowerPercentileRange = 15\n",
    "upperPercentileRange = 85\n",
    "\n",
    "def plotDateAgainstProfile(plotDate):\n",
    "    sensorList = sorted(peopleCountFrames.keys())\n",
    "    sensorWithDataToday = []\n",
    "\n",
    "    for sensorName in sensorList:\n",
    "        dfSensorToday = peopleCountFrames[sensorName][peopleCountFrames[sensorName].index >= plotDate]\n",
    "        if len(dfSensorToday.index) > 0:\n",
    "            sensorWithDataToday.append(sensorName)\n",
    "    sensorCount = len(sensorWithDataToday)\n",
    "\n",
    "    gridWidth = 3\n",
    "    gridHeight = math.ceil(sensorCount / gridWidth)\n",
    "\n",
    "    fig = plt.figure(figsize=(15, 1 + gridHeight * 4), constrained_layout=True)\n",
    "    #fig.subplots_adjust(wspace=0.2, hspace=0.5)\n",
    "    gs = fig.add_gridspec(ncols=gridWidth, nrows=gridHeight)\n",
    "\n",
    "    subPlotIdx = 0\n",
    "    for sensorName in sensorWithDataToday:\n",
    "        dfSensor = peopleCountFrames[sensorName].copy()\n",
    "        dfSensor.insert(0, 'Day of week', dfSensor.index.to_series().apply(lambda t: t.strftime('%A')))\n",
    "        dfSensor.insert(1, 'Time of day', dfSensor.index.to_series().apply(lambda t: t.strftime('%H:%M:%S')))\n",
    "\n",
    "        # Scale for per-minute values\n",
    "        for c in dfSensor.select_dtypes(plottableTypes).columns:\n",
    "            dfSensor[c] = dfSensor[c] / perMinuteFactor\n",
    "\n",
    "        # Fetch today's data only, but not within the last N minutes (might be misleading if half\n",
    "        # way through a bucket)\n",
    "        dfSensorToday = dfSensor.loc \\\n",
    "          [(plotDate <= dfSensor.index) &\n",
    "           (dfSensor.index <= plotDate + pd.Timedelta(hours=24)) &\n",
    "          (dfSensor.index < np.max(dfSensor.index) - pd.Timedelta(seconds=peopleCountInterval))]\n",
    "\n",
    "        # Calculate an average and quartiles for every 15 minutes on each day of the week\n",
    "        aggregateColumns = ['Day of week', 'Time of day']\n",
    "        dfDailyProfile = dfSensor[ : dateBaselineEnd].groupby(aggregateColumns, group_keys=False, as_index=False).median()\n",
    "        dfDailyLQ = dfSensor[ : dateBaselineEnd].groupby(aggregateColumns, group_keys=False, as_index=False).quantile(lowerPercentileRange / 100)\n",
    "        dfDailyUQ = dfSensor[ : dateBaselineEnd].groupby(aggregateColumns, group_keys=False, as_index=False).quantile(upperPercentileRange / 100)\n",
    "        for direction in dfDailyProfile.select_dtypes(plottableTypes).columns:\n",
    "            dfDailyProfile['%s: Lower percentile' % direction] = dfDailyLQ[direction]\n",
    "            dfDailyProfile['%s: Upper percentile' % direction] = dfDailyUQ[direction]\n",
    "\n",
    "        # Determine the maximum this graph will reach on ANY day of the week\n",
    "        sensorWeeklyMax = dfSensor \\\n",
    "            .groupby(aggregateColumns, group_keys=False, as_index=False) \\\n",
    "            .quantile(0.85) \\\n",
    "            .copy() \\\n",
    "            .select_dtypes(plottableTypes) \\\n",
    "            .max(axis=0) \\\n",
    "            .max(axis=0)\n",
    "            \n",
    "        ax = fig.add_subplot(gs[math.floor(subPlotIdx / gridWidth), subPlotIdx % gridWidth])\n",
    "\n",
    "        timeLocator = mdates.AutoDateLocator(minticks=4, maxticks=6)\n",
    "        ax.set_title('\\n'.join(wrap(sensorName, 40)), fontsize=12)\n",
    "        ax.set_xlabel('Date')\n",
    "        ax.xaxis.set_major_locator(timeLocator)\n",
    "        ax.xaxis.set_major_formatter(\n",
    "            mdates.ConciseDateFormatter(\n",
    "                locator=timeLocator,\n",
    "                offset_formats=['', '%Y', '%b-%Y', '%d-%b-%Y', '%d-%b-%Y', '%d-%b-%Y %H:%M']\n",
    "            )\n",
    "        )\n",
    "        ax.set_ylabel('Pedestrians per minute')\n",
    "        ax.set_ylim([0.0, sensorWeeklyMax])\n",
    "        ax.set_xlim([plotDate, plotDate + pd.Timedelta(hours=24)])\n",
    "\n",
    "        # Generate an average series on this specific day with full timestamps\n",
    "        dfTodayProfile = dfDailyProfile[dfDailyProfile['Day of week'] == plotDate.strftime('%A')].copy()\n",
    "        dfTodayProfile['Timestamp'] = dfDailyProfile['Time of day'].apply(\n",
    "          lambda timeOfDay: dateutil.parser.parse(\n",
    "            '%sT%sZ' % (plotDate.strftime('%Y-%m-%d'), timeOfDay)\n",
    "          )\n",
    "        )\n",
    "\n",
    "        lineColour = colourUp\n",
    "        plotPercentileRange = []\n",
    "        plotMedian = []\n",
    "        for direction in dfSensorToday.select_dtypes(plottableTypes).columns:\n",
    "            plotPercentileRange.append(ax.fill_between(\n",
    "                dfTodayProfile['Timestamp'],\n",
    "                dfTodayProfile['%s: Lower percentile' % direction],\n",
    "                dfTodayProfile['%s: Upper percentile' % direction],\n",
    "                color=lineColour,\n",
    "                linewidth=0,\n",
    "                alpha=0.2\n",
    "            ))\n",
    "            plotMedian.append(ax.plot(\n",
    "                dfTodayProfile['Timestamp'],\n",
    "                dfTodayProfile[direction],\n",
    "                color=lineColour,\n",
    "                linestyle=':',\n",
    "                alpha=0.4\n",
    "            )[0])\n",
    "            ax.plot(\n",
    "                dfSensorToday.index,\n",
    "                dfSensorToday[direction],\n",
    "                color=lineColour,\n",
    "                label=direction\n",
    "            )\n",
    "            lineColour = colourDown if lineColour == colourUp else colourUp\n",
    "\n",
    "        ax.legend(loc=2, prop={'size': 9})\n",
    "        subPlotIdx = subPlotIdx + 1\n",
    "\n",
    "    plt.figtext(\n",
    "        0.05,\n",
    "        -0.03,\n",
    "        'Urban Observatory (https://www.urbanobservatory.ac.uk/).\\n'\n",
    "        'Luke Smith <luke.smith@ncl.ac.uk>.',\n",
    "        horizontalalignment='left',\n",
    "        color='#606060',\n",
    "        fontdict={'size': 11}\n",
    "    )\n",
    "    plt.figlegend(\n",
    "        plotPercentileRange[:2] + plotMedian[:2],\n",
    "        [\n",
    "            '/',\n",
    "            '%u to %u%%ile for %ss during last year' \n",
    "              % (lowerPercentileRange, upperPercentileRange, plotDate.strftime('%A')),\n",
    "            '/',\n",
    "            'Median for %s' % plotDate.strftime('%A')\n",
    "        ],\n",
    "        loc='lower right',\n",
    "        ncol=4,\n",
    "        labelspacing=0,\n",
    "        handletextpad=0.4,\n",
    "        columnspacing=0.4\n",
    "    )\n",
    "\n",
    "    #plt.tight_layout()\n",
    "    \n",
    "    plt.suptitle('%s' % plotDate.strftime('%A %d %B %Y'), fontsize='15', fontweight='bold')\n",
    "    #plt.subplots_adjust(top=0.92)\n",
    "    \n",
    "    plt.savefig('../output/pedestrian-flows_profile-comparison_%s.png' % plotDate.strftime('%d-%b-%Y'), bbox_inches='tight')\n",
    "    plt.show()"
   ]
  },
  {
   "cell_type": "markdown",
   "metadata": {
    "colab_type": "text",
    "id": "b4IQod4yn_oO"
   },
   "source": [
    "### Today"
   ]
  },
  {
   "cell_type": "code",
   "execution_count": null,
   "metadata": {
    "colab": {
     "base_uri": "https://localhost:8080/",
     "height": 1000
    },
    "colab_type": "code",
    "id": "je3sL0E1us2L",
    "outputId": "ecb965fb-6855-42d5-bd29-0a866f61a0e0"
   },
   "outputs": [],
   "source": [
    "# Today\n",
    "plotDateAgainstProfile(dateToday)"
   ]
  },
  {
   "cell_type": "markdown",
   "metadata": {
    "colab_type": "text",
    "id": "YkNaz7dJn7sH"
   },
   "source": [
    "### Yesterday"
   ]
  },
  {
   "cell_type": "code",
   "execution_count": null,
   "metadata": {
    "colab": {
     "base_uri": "https://localhost:8080/",
     "height": 1000
    },
    "colab_type": "code",
    "id": "Dck7cBZenSYK",
    "outputId": "88ad2526-2a38-4434-d488-b5316eed3b14"
   },
   "outputs": [],
   "source": [
    "# Yesterday\n",
    "plotDateAgainstProfile(dateToday - pd.Timedelta(hours=24))"
   ]
  },
  {
   "cell_type": "code",
   "execution_count": null,
   "metadata": {
    "colab": {
     "base_uri": "https://localhost:8080/",
     "height": 1000
    },
    "colab_type": "code",
    "id": "Dck7cBZenSYK",
    "outputId": "88ad2526-2a38-4434-d488-b5316eed3b14"
   },
   "outputs": [],
   "source": [
    "# Last two weeks\n",
    "#for d in range(14, 1, -1):\n",
    "#    plotDateAgainstProfile(dateToday - pd.Timedelta(days=d))"
   ]
  },
  {
   "cell_type": "code",
   "execution_count": null,
   "metadata": {},
   "outputs": [],
   "source": []
  }
 ],
 "metadata": {
  "colab": {
   "collapsed_sections": [],
   "name": "Recent pedestrian flows in Newcastle.ipynb",
   "provenance": [],
   "toc_visible": true
  },
  "kernelspec": {
   "display_name": "Python 3",
   "language": "python",
   "name": "python3"
  },
  "language_info": {
   "codemirror_mode": {
    "name": "ipython",
    "version": 3
   },
   "file_extension": ".py",
   "mimetype": "text/x-python",
   "name": "python",
   "nbconvert_exporter": "python",
   "pygments_lexer": "ipython3",
   "version": "3.7.6"
  }
 },
 "nbformat": 4,
 "nbformat_minor": 4
}
