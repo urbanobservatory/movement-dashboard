{
 "cells": [
  {
   "cell_type": "code",
   "execution_count": null,
   "metadata": {},
   "outputs": [],
   "source": [
    "import pickle\n",
    "import matplotlib.pyplot as plt\n",
    "from datetime import datetime\n",
    "import matplotlib.dates as mdates\n",
    "import matplotlib\n",
    "matplotlib.rcParams.update({\n",
    "    'font.size': 13,\n",
    "    'timezone': 'Europe/London'\n",
    "})"
   ]
  },
  {
   "cell_type": "markdown",
   "metadata": {},
   "source": [
    "# Energy consumption at substations across Tyne and Wear\n",
    "\n",
    "The plots below show normalised power consumption at a daily level for a number of substations across Tyne and Wear. The normalisation means that 1.0 represents typical consumption prior to COVID-19."
   ]
  },
  {
   "cell_type": "code",
   "execution_count": null,
   "metadata": {
    "collapsed": false,
    "jupyter": {
     "outputs_hidden": false
    },
    "pycharm": {
     "name": "#%%\n"
    }
   },
   "outputs": [],
   "source": [
    "\n",
    "myFmt = mdates.DateFormatter('%B %Y')\n",
    "\n",
    "with open('../static_data/energy.pkl','rb') as file:\n",
    "    dout = pickle.load(file)\n",
    "\n",
    "\n",
    "# Do the plotting\n",
    "for ii,d in enumerate(dout['data']):\n",
    "    fig,ax = plt.subplots(figsize = (18, 6))\n",
    "   \n",
    "    ax.plot_date(dout['t'],d,'.-',ms=3,)\n",
    "   \n",
    "    ax.set_xlim((datetime(2019,4,1),datetime(2020,9,30)))\n",
    "    ylm0 = ax.get_ylim()\n",
    "    ylm = (-0.03,ylm0[1])\n",
    "   \n",
    "    date0 = datetime(2020,3,23)\n",
    "    ax.vlines(date0,*ylm,linestyles='--',linewidth=1.0,zorder=10)\n",
    "   \n",
    "    ax.set_ylim(ylm)\n",
    "    ax.xaxis.set_major_formatter(myFmt)\n",
    "\n",
    "    ax.set_ylabel('Power $P$, Normalised')\n",
    "    ax.set_xlabel('')\n",
    "    plt.tight_layout()\n",
    "    plt.show()\n",
    "\n"
   ]
  },
  {
   "cell_type": "code",
   "execution_count": null,
   "metadata": {},
   "outputs": [],
   "source": []
  }
 ],
 "metadata": {
  "kernelspec": {
   "display_name": "Python 3",
   "language": "python",
   "name": "python3"
  },
  "language_info": {
   "codemirror_mode": {
    "name": "ipython",
    "version": 3
   },
   "file_extension": ".py",
   "mimetype": "text/x-python",
   "name": "python",
   "nbconvert_exporter": "python",
   "pygments_lexer": "ipython3",
   "version": "3.7.6"
  }
 },
 "nbformat": 4,
 "nbformat_minor": 4
}
