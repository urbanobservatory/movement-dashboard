{
 "cells": [
  {
   "cell_type": "code",
   "execution_count": null,
   "metadata": {
    "colab": {},
    "colab_type": "code",
    "id": "vga1znuak7QB"
   },
   "outputs": [],
   "source": [
    "import matplotlib\n",
    "import pandas as pd\n",
    "import numpy as np\n",
    "import json\n",
    "import math\n",
    "import urllib.request\n",
    "import dateutil.parser\n",
    "import dateutil.rrule\n",
    "import dateutil.tz\n",
    "import datetime\n",
    "import matplotlib.pyplot as plt\n",
    "import matplotlib.dates as mdates\n",
    "from textwrap import wrap\n",
    "\n",
    "matplotlib.rcParams.update({\n",
    "    'font.size': 13,\n",
    "    'timezone': 'Europe/London'\n",
    "})"
   ]
  },
  {
   "cell_type": "code",
   "execution_count": null,
   "metadata": {
    "colab": {},
    "colab_type": "code",
    "id": "44C0MsGOKSKn"
   },
   "outputs": [],
   "source": [
    "# Used across all of the plots\n",
    "tzLocal = dateutil.tz.gettz('Europe/London')\n",
    "dateToday = datetime.datetime.combine(datetime.date.today(), datetime.datetime.min.time()).replace(tzinfo=tzLocal)\n",
    "\n",
    "colourUp = '#f64a8a'\n",
    "colourDown = '#233067'\n",
    "\n",
    "resampleFrequency = 900"
   ]
  },
  {
   "cell_type": "markdown",
   "metadata": {
    "colab_type": "text",
    "id": "bG7Z52mXTrLw"
   },
   "source": [
    "# Car park occupancy across Tyne and Wear\n",
    "\n",
    "The data represents the car parks with ANPR at the entry and exit, with data collected through Tyne and Wear UTMC. This is not all car parks.\n"
   ]
  },
  {
   "cell_type": "code",
   "execution_count": null,
   "metadata": {
    "colab": {
     "base_uri": "https://localhost:8080/",
     "height": 1000
    },
    "colab_type": "code",
    "id": "Thc15ixbUgH3",
    "outputId": "8473b2e5-50e3-45ff-8542-8f2f2c1093e7"
   },
   "outputs": [],
   "source": [
    "dfCarParks = pd.read_pickle('../cache/recent-car-park-occupancy-pd.pkl')\n",
    "carParkMetadata = pd.read_pickle('../cache/recent-car-park-metadata-pd.pkl')\n",
    "print('Last data obtained %s' \n",
    "    % (np.max(dfCarParks.index).strftime('%d %B %Y %H:%M')))"
   ]
  },
  {
   "cell_type": "code",
   "execution_count": null,
   "metadata": {
    "colab": {},
    "colab_type": "code",
    "id": "SJBuOs0rZLxd"
   },
   "outputs": [],
   "source": [
    "def plotCarParkTimeseries(type='continuous', historicCutOffDays=28):\n",
    "    dfCarParksRecent = dfCarParks[dfCarParks.index >= dateToday - pd.Timedelta(days=historicCutOffDays)]\n",
    "    dfCarParkMissingFreq = dfCarParksRecent \\\n",
    "          .isna() \\\n",
    "          .sum(axis=0) \\\n",
    "          .apply(lambda c: c / len(dfCarParksRecent.index))\n",
    "    dfCarParkPlotList = sorted(\n",
    "          dfCarParkMissingFreq[dfCarParkMissingFreq < 0.5].index,\n",
    "          key=lambda carPark: carParkMetadata[carParkMetadata.index == carPark]['capacity'].values[0],\n",
    "          reverse=True\n",
    "    )\n",
    "\n",
    "    if type == 'daily':\n",
    "         dfCarParksRecent = dfCarParksRecent.resample('24H').sum() / (3600 / resampleFrequency)\n",
    "\n",
    "    fig, axs = plt.subplots(\n",
    "         len(dfCarParkPlotList), 1,\n",
    "         figsize = (18, 1.5 * len(dfCarParkPlotList))\n",
    "    )\n",
    "\n",
    "    plotIndex = 0\n",
    "\n",
    "    for carPark in dfCarParkPlotList:\n",
    "        carParkMeta = carParkMetadata[carParkMetadata.index == carPark]\n",
    "        ax = axs[plotIndex]\n",
    "        ax.set_title(\n",
    "             '%s (%s with %u spaces)' % (\n",
    "                  carPark,\n",
    "                  carParkMeta['district'].values[0],\n",
    "                  carParkMeta['capacity'].values[0]\n",
    "             ),\n",
    "             loc='left',\n",
    "             fontdict={ 'horizontalalignment': 'left', 'fontsize': 12 }\n",
    "        )\n",
    "        ax.margins(x=0, y=0)\n",
    "        if type == 'daily':\n",
    "            dfWeekdays = dfCarParksRecent[dfCarParksRecent.index.to_series().apply(\n",
    "                  lambda t: t.strftime('%A') not in ['Saturday', 'Sunday']\n",
    "            )][carPark]\n",
    "            dfWeekends = dfCarParksRecent[dfCarParksRecent.index.to_series().apply(\n",
    "                  lambda t: t.strftime('%A') in ['Saturday', 'Sunday']\n",
    "            )][carPark]\n",
    "\n",
    "            ax.bar(\n",
    "                 dfWeekdays.index,\n",
    "                 dfWeekdays,\n",
    "                 color=colourDown,\n",
    "                 label='Vehicle-hours on weekdays'\n",
    "            )\n",
    "            ax.bar(\n",
    "                 dfWeekends.index,\n",
    "                 dfWeekends,\n",
    "                 color=colourUp,\n",
    "                 label='Vehicle-hours on weekends'\n",
    "            )\n",
    "        elif type == 'continuous':\n",
    "            ax.fill_between(\n",
    "                dfCarParksRecent[carPark].index,\n",
    "                dfCarParksRecent[carPark],\n",
    "                color=colourDown,\n",
    "                where=dfCarParksRecent.index.to_series().apply(\n",
    "                     lambda t: t.strftime('%A') not in ['Saturday', 'Sunday']\n",
    "                ),\n",
    "                label='Occupied spaces on weekdays'\n",
    "            )\n",
    "            ax.fill_between(\n",
    "                dfCarParksRecent[carPark].index,\n",
    "                dfCarParksRecent[carPark],\n",
    "                color=colourUp,\n",
    "                where=dfCarParksRecent.index.to_series().apply(\n",
    "                     lambda t: t.strftime('%A') in ['Saturday', 'Sunday']\n",
    "                ),\n",
    "                label='Occupied spaces on weekend'\n",
    "            )\n",
    "\n",
    "        ax.xaxis.set_major_locator(mdates.WeekdayLocator(interval=1, byweekday=mdates.MO))\n",
    "        ax.xaxis.set_tick_params(which='major', pad=15)\n",
    "        ax.xaxis.set_minor_locator(mdates.DayLocator(interval=1))\n",
    "\n",
    "        if ax == axs[-1]:\n",
    "            ax.set_xlabel('Date')\n",
    "\n",
    "            if historicCutOffDays > 75:\n",
    "                timeLocatorMajor = mdates.AutoDateLocator(minticks=10, maxticks=30)\n",
    "                conciseZeroFormats = ['', '%Y', '%b', '%d-%b', '%H:%M', '%H:%M']\n",
    "                conciseOffsetFormats = ['', '%Y', '%b-%Y', '%d-%b-%Y-%b', '%d-%b-%Y', '%d-%b-%Y %H:%M']\n",
    "                ax.xaxis.set_tick_params(which='major', pad=0)\n",
    "                ax.xaxis.set_major_locator(timeLocatorMajor)\n",
    "                ax.xaxis.set_major_formatter(mdates.ConciseDateFormatter(locator=timeLocatorMajor, zero_formats=conciseZeroFormats, offset_formats=conciseOffsetFormats))\n",
    "            else:\n",
    "                dataFormatMajor = mdates.DateFormatter('%a %d %b')\n",
    "                ax.xaxis.set_major_formatter(dataFormatMajor)\n",
    "                ax.xaxis.set_minor_formatter(mdates.DateFormatter('%d'))\n",
    "        else:\n",
    "            ax.xaxis.set_ticklabels([]);\n",
    "\n",
    "        if ax == axs[0]:\n",
    "            ax.legend(\n",
    "                loc='upper right',\n",
    "                ncol=2,\n",
    "                fontsize=11,\n",
    "                frameon=False,\n",
    "                bbox_to_anchor=(1.0, 1.35)\n",
    "            )\n",
    "\n",
    "        plotIndex = plotIndex + 1\n",
    "\n",
    "    plt.tight_layout()\n",
    "    fig.subplots_adjust(hspace=0.4)\n",
    "    plt.show()"
   ]
  },
  {
   "cell_type": "markdown",
   "metadata": {
    "colab_type": "text",
    "id": "z27LjaX8fjfU"
   },
   "source": [
    "## Daily total vehicle-hours during the last six months\n",
    "\n",
    "The below charts are expressed in vehicle-hours, meaning each vehicle being parked is multiplied by the duration of its stay."
   ]
  },
  {
   "cell_type": "code",
   "execution_count": null,
   "metadata": {
    "colab": {
     "base_uri": "https://localhost:8080/",
     "height": 1000
    },
    "colab_type": "code",
    "id": "zb9WL5UqlX_u",
    "outputId": "3d68d2e8-6664-4ed1-a5ad-316904373308"
   },
   "outputs": [],
   "source": [
    "# Daily car-hours as a bar chart\n",
    "plotCarParkTimeseries('daily', 185)"
   ]
  },
  {
   "cell_type": "code",
   "execution_count": null,
   "metadata": {
    "colab": {},
    "colab_type": "code",
    "id": "J7cPsKUxukqL"
   },
   "outputs": [],
   "source": []
  }
 ],
 "metadata": {
  "colab": {
   "collapsed_sections": [],
   "name": "Recent car park occupancy.ipynb",
   "provenance": [],
   "toc_visible": true
  },
  "kernelspec": {
   "display_name": "Python 3",
   "language": "python",
   "name": "python3"
  },
  "language_info": {
   "codemirror_mode": {
    "name": "ipython",
    "version": 3
   },
   "file_extension": ".py",
   "mimetype": "text/x-python",
   "name": "python",
   "nbconvert_exporter": "python",
   "pygments_lexer": "ipython3",
   "version": "3.7.6"
  }
 },
 "nbformat": 4,
 "nbformat_minor": 4
}
