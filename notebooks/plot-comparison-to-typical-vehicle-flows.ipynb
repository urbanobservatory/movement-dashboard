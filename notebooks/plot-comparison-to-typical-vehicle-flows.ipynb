{
 "cells": [
  {
   "cell_type": "code",
   "execution_count": null,
   "metadata": {},
   "outputs": [],
   "source": [
    "import matplotlib\n",
    "import pandas as pd\n",
    "import numpy as np\n",
    "import pickle\n",
    "import urllib.request\n",
    "import dateutil.parser\n",
    "import dateutil.rrule\n",
    "import dateutil.tz\n",
    "import datetime\n",
    "import warnings\n",
    "import matplotlib.pyplot as plt\n",
    "import matplotlib.dates as mdates\n",
    "import matplotlib.ticker as mtick\n",
    "import math\n",
    "import re\n",
    "\n",
    "# Plotting is externalised\n",
    "import importlib\n",
    "import traffic\n",
    "\n",
    "importlib.reload(traffic)\n",
    "\n",
    "matplotlib.rcParams.update({\n",
    "    'font.size': 13,\n",
    "    'timezone': 'Europe/London',\n",
    "    'figure.max_open_warning': False\n",
    "})"
   ]
  },
  {
   "cell_type": "code",
   "execution_count": null,
   "metadata": {},
   "outputs": [],
   "source": [
    "tzLocal = dateutil.tz.gettz('Europe/London')\n",
    "tzUTC = dateutil.tz.gettz('UTC')"
   ]
  },
  {
   "cell_type": "code",
   "execution_count": null,
   "metadata": {},
   "outputs": [],
   "source": [
    "resampleInterval = 60 * 8  # N minute data\n",
    "\n",
    "def prepareTotal(pdInput, interval = 60 * 8):\n",
    "    return pdInput \\\n",
    "        .resample('%us' % interval, closed='right', label='right') \\\n",
    "        .sum() \\\n",
    "        .sum(axis=1) \\\n",
    "        .to_frame() \\\n",
    "        .rename(columns={0: 'Total'}) \\\n",
    "        .replace({0: np.nan})"
   ]
  },
  {
   "cell_type": "markdown",
   "metadata": {},
   "source": [
    "# Traffic volumes across Tyne and Wear against profile\n",
    "\n",
    "The below charts show the last four weeks of daily traffic profiles across the whole of Tyne and Wear. This is based on plate reads by the region's ANPR network, and is normalised against the normal peak daily vehicle flows (i.e. 100% is normal worst part of rush hour traffic).\n",
    "\n",
    "You can [download the underlying counts as a CSV file](https://covid.view.urbanobservatory.ac.uk/output/t%26w-anpr-volumes-pd-16min.csv) and [accompanying metadata](https://covid.view.urbanobservatory.ac.uk/output/t%26w-anpr-volumes-point-metadata-pd.csv), or access it through [an API](https://api.newcastle.urbanobservatory.ac.uk/api/v2/sensors/entity?metric=%22of%20link%22&page=1)."
   ]
  },
  {
   "cell_type": "code",
   "execution_count": null,
   "metadata": {},
   "outputs": [],
   "source": [
    "pdTrafficTyneWear = pickle.load(open('../cache/recent-traffic-volumes-pd.pkl', 'rb'))\n",
    "\n",
    "print('Last data obtained %s' \n",
    "    % (np.max(pdTrafficTyneWear.index).strftime('%d %B %Y %H:%M')))"
   ]
  },
  {
   "cell_type": "code",
   "execution_count": null,
   "metadata": {},
   "outputs": [],
   "source": [
    "pdTrafficAllSum = prepareTotal(pdTrafficTyneWear, resampleInterval)\n",
    "\n",
    "#pdTrafficAllSum.plot(figsize=(18, 8))\n",
    "#pdTrafficAllSum"
   ]
  },
  {
   "cell_type": "code",
   "execution_count": null,
   "metadata": {},
   "outputs": [],
   "source": [
    "#pdTrafficAllSum.plot(figsize=(18, 8))"
   ]
  },
  {
   "cell_type": "code",
   "execution_count": null,
   "metadata": {},
   "outputs": [],
   "source": [
    "dailyProfiles = traffic.generateDailyProfiles(pdTrafficAllSum, resampleInterval)"
   ]
  },
  {
   "cell_type": "code",
   "execution_count": null,
   "metadata": {},
   "outputs": [],
   "source": [
    "for p in dailyProfiles['profile'].keys():\n",
    "    if not isinstance(dailyProfiles['profile'][p], pd.DataFrame):\n",
    "        continue\n",
    "        \n",
    "    daysToFix = []\n",
    "    for day in list(dailyProfiles['profile'][p]['Day of week'].unique()):\n",
    "        if min(dailyProfiles['profile'][p][dailyProfiles['profile'][p]['Day of week'] == day].index.to_series()).minute > 0:\n",
    "            daysToFix.append(day)\n",
    "    \n",
    "    dailyProfiles['profile'][p].index = dailyProfiles['profile'][p].index.to_series().apply(lambda t: t - pd.Timedelta(minutes=56) if t.strftime('%A') in daysToFix else t)"
   ]
  },
  {
   "cell_type": "code",
   "execution_count": null,
   "metadata": {},
   "outputs": [],
   "source": [
    "# For Twitter sharing... transparency doesn't work so well when some browsers default to black background\n",
    "%config InlineBackend.print_figure_kwargs={'facecolor' : '#fafafa'}\n",
    "\n",
    "fig, axs = traffic.plotDailyProfile(dailyProfiles)"
   ]
  },
  {
   "cell_type": "code",
   "execution_count": null,
   "metadata": {},
   "outputs": [],
   "source": [
    "#pdPointMeta = pickle.load(open('../cache/recent-traffic-volumes-point-metadata-pd.pkl', 'rb'))\n",
    "#highways = pdPointMeta['highwayDescription'].apply(lambda hd: re.sub(' \\(.*\\)$', '', hd)).unique()"
   ]
  },
  {
   "cell_type": "code",
   "execution_count": null,
   "metadata": {},
   "outputs": [],
   "source": [
    "%config InlineBackend.print_figure_kwargs={'facecolor' : '#fafafa'}\n",
    "\n",
    "# Uncomment to plot every road...\n",
    "\n",
    "i=\"\"\"\n",
    "individualRoadResample = resampleInterval * 2\n",
    "for c in highways:\n",
    "    matchingColumns = list(filter(\n",
    "        lambda cn: cn in pdTrafficTyneWear.columns,\n",
    "        list(pdPointMeta[pdPointMeta['highwayDescription'].apply(lambda hd: c + ' (' in hd)]['timeseriesName'])\n",
    "    ))\n",
    "    if len(matchingColumns) <= 0:\n",
    "        continue\n",
    "        \n",
    "    highwayFeeds = pdTrafficTyneWear[matchingColumns]\n",
    "    \n",
    "    pdTrafficSingleRoad = prepareTotal(highwayFeeds.resample('%us' % individualRoadResample).sum(), individualRoadResample)\n",
    "    dailyProfiles = traffic.generateDailyProfiles(pdTrafficSingleRoad, individualRoadResample)\n",
    "    # pointMeta = pdPointMeta[pdPointMeta['timeseriesName'] == c].to_dict(orient='records')[0]\n",
    "    fig, axs = traffic.plotDailyProfile(dailyProfiles, title=c)\n",
    "\"\"\""
   ]
  },
  {
   "cell_type": "code",
   "execution_count": null,
   "metadata": {},
   "outputs": [],
   "source": []
  }
 ],
 "metadata": {
  "kernelspec": {
   "display_name": "Python 3",
   "language": "python",
   "name": "python3"
  },
  "language_info": {
   "codemirror_mode": {
    "name": "ipython",
    "version": 3
   },
   "file_extension": ".py",
   "mimetype": "text/x-python",
   "name": "python",
   "nbconvert_exporter": "python",
   "pygments_lexer": "ipython3",
   "version": "3.7.6"
  }
 },
 "nbformat": 4,
 "nbformat_minor": 4
}
