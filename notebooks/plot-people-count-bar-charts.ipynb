{
 "cells": [
  {
   "cell_type": "markdown",
   "metadata": {
    "pycharm": {
     "name": "#%% md\n"
    }
   },
   "source": [
    "# People Counts per Day\n",
    "\n",
    "#### Counts computed by using computer vision algorithms to analyse when people are recorded walking past a predetermined line in our CCTV video feeds    "
   ]
  },
  {
   "cell_type": "code",
   "execution_count": null,
   "metadata": {
    "pycharm": {
     "name": "#%%\n"
    }
   },
   "outputs": [],
   "source": [
    "from uo_bar_charts import BarChart\n",
    "from IPython.display import Image,display,HTML\n",
    "import os\n",
    "\n",
    "\n",
    "chart = BarChart('people')\n",
    "groups = {'Total People Count':[\n",
    "'PER_PEOPLE_BLACKETT-BOOTS',\n",
    "'PER_PEOPLE_THE_CORE_LINE_0',\n",
    "'PER_PEOPLE_THE_CORE_LINE_1',\n",
    "'PER_PEOPLE_BLACKETT-NORTHUMBERLAND-W',\n",
    "'PER_PEOPLE_USB_LINE_0',\n",
    "'PER_PEOPLE_NORTHUMERLAND_LINE_SHORT_DISTANCE_HEAD_6',\n",
    "'PER_PEOPLE_NORTHUMERLAND_LINE_SHORT_DISTANCE_HEAD_3',\n",
    "'PER_PEOPLE_NORTHUMERLAND_LINE_LONG_DISTANCE_HEAD_1',\n",
    "'PER_PEOPLE_NORTHUMERLAND_LINE_SHORT_DISTANCE_HEAD_5',\n",
    "'PER_PEOPLE_NORTHUMERLAND_LINE_LONG_DISTANCE_HEAD_0',\n",
    "'PER_PEOPLE_NORTHUMERLAND_LINE_SHORT_DISTANCE_HEAD_2',\n",
    "'PER_PEOPLE_NORTHUMERLAND_LINE_SHORT_DISTANCE_HEAD_0',\n",
    "'PER_PEOPLE_NORTHUMERLAND_LINE_SHORT_DISTANCE_HEAD_1',\n",
    "'PER_PEOPLE_NORTHUMERLAND_LINE_SHORT_DISTANCE_HEAD_4',\n",
    "'PER_PEOPLE_NORTHUMERLAND_LINE_MID_DISTANCE_HEAD_0',\n",
    "    ]}\n",
    "\n",
    "for group,chart in chart.plot_data_group(groups,y_axis='People Count'):\n",
    "    display(Image(chart))\n",
    "\n",
    "\n",
    "\n"
   ]
  },
  {
   "cell_type": "code",
   "execution_count": null,
   "metadata": {},
   "outputs": [],
   "source": []
  }
 ],
 "metadata": {
  "kernelspec": {
   "display_name": "Python 3",
   "language": "python",
   "name": "python3"
  },
  "language_info": {
   "codemirror_mode": {
    "name": "ipython",
    "version": 3
   },
   "file_extension": ".py",
   "mimetype": "text/x-python",
   "name": "python",
   "nbconvert_exporter": "python",
   "pygments_lexer": "ipython3",
   "version": "3.8.2"
  },
  "pycharm": {
   "stem_cell": {
    "cell_type": "raw",
    "metadata": {
     "collapsed": false
    },
    "source": []
   }
  }
 },
 "nbformat": 4,
 "nbformat_minor": 1
}
