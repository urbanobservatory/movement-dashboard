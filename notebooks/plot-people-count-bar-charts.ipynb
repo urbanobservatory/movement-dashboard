{
 "cells": [
  {
   "cell_type": "code",
   "execution_count": null,
   "metadata": {},
   "outputs": [],
   "source": [
    "!pip install smopy"
   ]
  },
  {
   "cell_type": "code",
   "execution_count": null,
   "metadata": {
    "pycharm": {
     "name": "#%%\n"
    }
   },
   "outputs": [],
   "source": [
    "from uo_bar_charts import BarChart\n",
    "from IPython.display import Image,display,HTML\n",
    "import os\n",
    "\n",
    "def rename(db_name):\n",
    "\n",
    "    cameraFriendlyNames = {\n",
    "        'PER_PEOPLE_BLACKETT-NORTHUMBERLAND-W': 'Blackett St pavement (north side) outside Rox',\n",
    "        'PER_PEOPLE_BLACKETT-BOOTS': 'Blackett St outside Boots',\n",
    "        'PER_PEOPLE_THE_CORE_LINE_0': 'Blue Star Square at Newcastle Helix (east side)',\n",
    "        'PER_PEOPLE_THE_CORE_LINE_1': 'Blue Star Square at Newcastle Helix (west side)',\n",
    "        'PER_PEOPLE_USB_LINE_0': 'Science Square at Newcastle Helix',\n",
    "        'PER_PEOPLE_NORTHUMERLAND_LINE_LONG_DISTANCE_HEAD_0': 'Northumberland St near Fenwick (west side)',\n",
    "        'PER_PEOPLE_NORTHUMERLAND_LINE_LONG_DISTANCE_HEAD_1': 'Northumberland St near Fenwick (east side)',\n",
    "        'PER_PEOPLE_NORTHUMERLAND_LINE_MID_DISTANCE_HEAD_0': 'Northumberland St near TK Maxx',\n",
    "        'PER_PEOPLE_NORTHUMERLAND_LINE_SHORT_DISTANCE_HEAD_0': 'John Dobson St (west side) pavement near Goldsmiths',\n",
    "        'PER_PEOPLE_NORTHUMERLAND_LINE_SHORT_DISTANCE_HEAD_1': 'John Dobson St crossing island between Blackett St and New Bridge St West',\n",
    "        'PER_PEOPLE_NORTHUMERLAND_LINE_SHORT_DISTANCE_HEAD_2': 'John Dobson St (east side) pavement near The Stack',\n",
    "        'PER_PEOPLE_NORTHUMERLAND_LINE_SHORT_DISTANCE_HEAD_3': 'Pavement (south side) corner John Dobson St and Blackett St',\n",
    "        'PER_PEOPLE_NORTHUMERLAND_LINE_SHORT_DISTANCE_HEAD_4': 'Pavement (south side) corner John Dobson St and New Bridge St West',\n",
    "        'PER_PEOPLE_NORTHUMERLAND_LINE_SHORT_DISTANCE_HEAD_5': 'Blackett St crossing from John Dobson St to Northumberland St (west side)',\n",
    "        'PER_PEOPLE_NORTHUMERLAND_LINE_SHORT_DISTANCE_HEAD_6': 'New Bridge St West crossing John Dobson St to Northumberland St (east side)'\n",
    "    }\n",
    "\n",
    "    return cameraFriendlyNames[db_name]\n",
    "\n",
    "chart = BarChart('people')\n",
    "\n",
    "for sensor_name, map_path,bars_path in chart.plot_data(rename):\n",
    "    display(HTML('<h2>{sensor}</h2>'.format(sensor=sensor_name)))\n",
    "    display(Image(os.path.abspath(map_path)))\n",
    "    display(Image(os.path.abspath(bars_path)))\n",
    "\n"
   ]
  },
  {
   "cell_type": "code",
   "execution_count": null,
   "metadata": {},
   "outputs": [],
   "source": []
  }
 ],
 "metadata": {
  "kernelspec": {
   "display_name": "Python 3",
   "language": "python",
   "name": "python3"
  },
  "language_info": {
   "codemirror_mode": {
    "name": "ipython",
    "version": 3
   },
   "file_extension": ".py",
   "mimetype": "text/x-python",
   "name": "python",
   "nbconvert_exporter": "python",
   "pygments_lexer": "ipython3",
   "version": "3.8.2"
  },
  "pycharm": {
   "stem_cell": {
    "cell_type": "raw",
    "metadata": {
     "collapsed": false
    },
    "source": []
   }
  }
 },
 "nbformat": 4,
 "nbformat_minor": 1
}
