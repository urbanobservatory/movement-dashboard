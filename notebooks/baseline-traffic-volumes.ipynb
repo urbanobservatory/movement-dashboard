{
 "cells": [
  {
   "cell_type": "code",
   "execution_count": null,
   "metadata": {},
   "outputs": [],
   "source": [
    "import numpy as np\n",
    "import pandas as pd\n",
    "import datetime\n",
    "import os\n",
    "import gc"
   ]
  },
  {
   "cell_type": "code",
   "execution_count": null,
   "metadata": {},
   "outputs": [],
   "source": [
    "dfLinkTs = None\n",
    "\n",
    "for f in os.listdir('../input'):\n",
    "    if not 'JT Count Data' in f:\n",
    "        continue\n",
    "    \n",
    "    print('Processing \"%s\"...' % f)\n",
    "    \n",
    "    dfLinks = pd.read_csv(\n",
    "        '../input/' + f,\n",
    "        names=['systemCodeIdentifier', 'time', 'platesIn', 'platesOut'],\n",
    "        dtype={\n",
    "            'systemCodeIdentifier': str,\n",
    "            'time': str,\n",
    "            'platesIn': np.float64,\n",
    "            'platesOut': np.float64\n",
    "        },\n",
    "        thousands=',',\n",
    "        low_memory=True\n",
    "    )\n",
    "    dfLinks['time'] = dfLinks['time'].apply(lambda t: datetime.datetime.strptime(t, '%d/%m/%Y %H:%M:%S'))\n",
    "    dfLinks = dfLinks.pivot(\n",
    "        index='time',\n",
    "        columns='systemCodeIdentifier'\n",
    "    )\n",
    "    dfLinks = dfLinks.resample('240s').sum()\n",
    "    dfLinks.columns = ['.'.join(reversed(col)).strip() for col in dfLinks.columns.values]\n",
    "    \n",
    "    print('  Loaded %u timeseries entries.' % len(dfLinks.index))\n",
    "    \n",
    "    if dfLinkTs is None:\n",
    "        dfLinkTs = dfLinks\n",
    "    else:\n",
    "        dfLinkTs = pd.concat([dfLinkTs, dfLinks])\n",
    "        \n",
    "    gc.collect()"
   ]
  },
  {
   "cell_type": "code",
   "execution_count": null,
   "metadata": {},
   "outputs": [],
   "source": [
    "dfLinkTs"
   ]
  },
  {
   "cell_type": "code",
   "execution_count": null,
   "metadata": {},
   "outputs": [],
   "source": [
    "dfLinkTs.to_pickle('../cache/baseline-traffic-volumes-pd.pkl')"
   ]
  },
  {
   "cell_type": "code",
   "execution_count": null,
   "metadata": {},
   "outputs": [],
   "source": [
    "list(dfLinkTs.columns)"
   ]
  },
  {
   "cell_type": "code",
   "execution_count": null,
   "metadata": {},
   "outputs": [],
   "source": []
  }
 ],
 "metadata": {
  "kernelspec": {
   "display_name": "Python 3",
   "language": "python",
   "name": "python3"
  },
  "language_info": {
   "codemirror_mode": {
    "name": "ipython",
    "version": 3
   },
   "file_extension": ".py",
   "mimetype": "text/x-python",
   "name": "python",
   "nbconvert_exporter": "python",
   "pygments_lexer": "ipython3",
   "version": "3.7.6"
  }
 },
 "nbformat": 4,
 "nbformat_minor": 4
}
