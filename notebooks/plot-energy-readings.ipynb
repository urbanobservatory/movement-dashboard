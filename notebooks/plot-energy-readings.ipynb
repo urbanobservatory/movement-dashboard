{
 "cells": [
  {
   "cell_type": "markdown",
   "metadata": {},
   "source": [
    "# Energy consumption on the Newcastle University campus"
   ]
  },
  {
   "cell_type": "code",
   "execution_count": null,
   "metadata": {},
   "outputs": [],
   "source": [
    "from datetime import datetime, timedelta, date\n",
    "import matplotlib\n",
    "import matplotlib.pyplot as plt\n",
    "import numpy as np\n",
    "import pandas as pd\n",
    "import statistics\n",
    "\n",
    "## The code threw up some SettingWithCopyWarnings that I will fix at somepoint\n",
    "import warnings\n",
    "warnings.filterwarnings('ignore')"
   ]
  },
  {
   "cell_type": "code",
   "execution_count": null,
   "metadata": {},
   "outputs": [],
   "source": [
    "metadata = pd.read_pickle('../cache/energy-metadata.pkl')\n",
    "baseline = pd.read_pickle('../cache/energy-baseline.pkl')\n",
    "recent = pd.read_pickle('../cache/energy-recent.pkl')"
   ]
  },
  {
   "cell_type": "code",
   "execution_count": null,
   "metadata": {},
   "outputs": [],
   "source": [
    "# Hardcoded list of selected sensors - to be updated for more dynamic selection of locations\n",
    "sensorID = ['CLZ_E_Tx1',    # Castle Leazes \n",
    "           'DEV_E_Main',   # Devonshire \n",
    "           'HAN_E_Main',   # Great North Museum \n",
    "           'REF_E_Main',   # Kings Road Centre\n",
    "           'PCY_E_Main',   # Percy Building\n",
    "           'CSH_E_Main',   # Sports Center \n",
    "           'UNS_E_Main',   # Students Union\n",
    "           'W22_E_Main',   # Windsor Terrace (Law)\n",
    "           'WOL_E_Main']   # Wolfson Building"
   ]
  },
  {
   "cell_type": "code",
   "execution_count": null,
   "metadata": {},
   "outputs": [],
   "source": [
    "baseline.loc[:,\"Weekday\"] = baseline.index.weekday\n",
    "baseline.loc[:,\"WeekNumber\"] = baseline.index.week\n",
    "\n",
    "recent.loc[:,\"Weekday\"] = recent.index.weekday\n",
    "recent.loc[:,\"WeekNumber\"] = recent.index.week\n",
    "recent = recent[recent[\"WeekNumber\"] >= 10]"
   ]
  },
  {
   "cell_type": "markdown",
   "metadata": {},
   "source": [
    "These charts show total electricity consumption in kilowatt-hours, which are calculated from more granular data, and compared to median historical daily total readings between 2017 and 2019 for the equivalent period to the current COVID-19 lockdown."
   ]
  },
  {
   "cell_type": "code",
   "execution_count": null,
   "metadata": {},
   "outputs": [],
   "source": [
    "plotNoOfWeeks = 8\n",
    "colourBaseline = '#f64a8a'\n",
    "colourRecent = '#233067'\n",
    "\n",
    "# Set up Plots\n",
    "for sid in sensorID:   \n",
    "    # Extract data for current Sensor ID\n",
    "    baselineTemp = baseline[[sid,'Weekday','WeekNumber']]\n",
    "    recentTemp = recent[[sid,'Weekday','WeekNumber']]\n",
    "    \n",
    "    plotDF = pd.DataFrame(columns=[\"WeekNum\",0,1,2,3,4,5,6])\n",
    "    \n",
    "    # Extract Baseline Data for Weeks in \"Recent\" Dataframe\n",
    "    weeks = recentTemp[\"WeekNumber\"].unique().tolist()\n",
    "    baselineTemp = baselineTemp[baselineTemp['WeekNumber'].isin(weeks)]\n",
    "    \n",
    "    # Get Daily Average SUM Energy Usage for day of week for weeks since Lockdown (2017-2019)\n",
    "    row = {}\n",
    "    for wd in range(0,7):\n",
    "        weekdayBase = baselineTemp[baselineTemp[\"Weekday\"]==wd]\n",
    "        weekdayBase.loc[:,\"Date\"] = weekdayBase.index.date\n",
    "        uniqueDates = weekdayBase[\"Date\"].unique()\n",
    "        energySumList = []\n",
    "        for d in uniqueDates:\n",
    "            dailyBaseDF = weekdayBase[weekdayBase[\"Date\"]==d]\n",
    "            totalEnergy = dailyBaseDF[sid].sum()\n",
    "            energySumList.append(totalEnergy)\n",
    "        aveEnergy = statistics.median(energySumList)\n",
    "        row[wd] = aveEnergy\n",
    "    row[\"WeekNum\"] = \"Baseline\"\n",
    "    plotDF = plotDF.append(row, ignore_index=True)\n",
    "    plotDF.rename(index={'0': 'Baseline'}, inplace=True)\n",
    "    \n",
    "    # Get SUM Energy Consumption for each Day/Week\n",
    "    for wk in weeks:\n",
    "        weekRecent = recentTemp[recentTemp[\"WeekNumber\"]==wk]\n",
    "        row = {}\n",
    "        for wd in range(0,7):\n",
    "            weekdayRecent = weekRecent[weekRecent[\"Weekday\"]==wd]\n",
    "            totalEnergy = weekdayRecent[sid].sum()\n",
    "            row[wd] = totalEnergy\n",
    "        row[\"WeekNum\"] = wk\n",
    "        plotDF = plotDF.append(row, ignore_index=True)\n",
    "    \n",
    "    # Set up Plot Parameters\n",
    "    wkNums = plotDF[\"WeekNum\"].unique()\n",
    "    wkNums = ['Baseline'] + sorted([wkn for wkn in wkNums if isinstance(wkn, (int, float))])[-plotNoOfWeeks:]\n",
    "    \n",
    "    x = ['Monday','Tuesday','Wednesday','Thursday','Friday','Saturday','Sunday']\n",
    "\n",
    "    ind = np.arange(7)\n",
    "    # Default width - may need updating at later date\n",
    "    width = 0.05\n",
    "\n",
    "    numYs = len(wkNums)\n",
    "    midWeek = (numYs/2) - 0.5\n",
    "    pos = -(midWeek)\n",
    "    \n",
    "    # Define Colours\n",
    "    colours1 = ('#a6cee3','#1f78b4','#b2df8a','#33a02c','#fb9a99','#e31a1c',\n",
    "                '#fdbf6f','#ff7f00','#cab2d6','#6a3d9a','#ffff99','#b15928')\n",
    "    colours2 = ('#1f78b4','#33a02c','#e31a1c','#ff7f00','#6a3d9a','#b15928')\n",
    "    col1 = iter(colours1)\n",
    "    col2 = iter(colours2)\n",
    "    col3 = iter(colours2)\n",
    "    \n",
    "    fig, axs = plt.subplots(figsize=(18,6.5))\n",
    "\n",
    "    run = 1\n",
    "    \n",
    "    # Plotting\n",
    "    for wkn in wkNums:\n",
    "        plotRow = plotDF[plotDF[\"WeekNum\"]==wkn]\n",
    "        plotRow.drop(columns=['WeekNum'], axis=1,inplace=True)\n",
    "        y = plotRow.values.flatten().tolist()\n",
    "        if wkn == 'Baseline':\n",
    "            c = next(col1)\n",
    "            plt.bar((ind+(width*pos)),y,width,color=colourBaseline, edgecolor='white', label=\"Baseline\")\n",
    "        else:\n",
    "            date = pd.to_datetime('2020' + str(int(wkn)-1) + '-1', format='%Y%W-%w')\n",
    "            monday = date.strftime('%d %b')\n",
    "            c = colourRecent\n",
    "            a = min(1.0, 0.25 + ((1 - 0.25) / plotNoOfWeeks) * run)\n",
    "            plt.bar((ind+(width*pos)),y,width,color=c, alpha=a, edgecolor='white', label=None if wkn != wkNums[-1] else 'Last %u weeks' % plotNoOfWeeks)\n",
    "        pos = pos + 1\n",
    "        run = run + 1\n",
    "        \n",
    "    plt.ylabel(\"Electricity consumption (kWh)\")\n",
    "\n",
    "    meta = metadata[metadata[\"id\"] == sid]\n",
    "    location = meta[\"description\"].values[0]\n",
    "\n",
    "    plt.title(location, fontsize=14)\n",
    "    \n",
    "    plt.legend(prop={'size': 9}, ncol=5)\n",
    "\n",
    "    plt.xticks(ind + width / len(plotDF), x)\n",
    "    \n",
    "    plt.savefig('../output/energy-usage-' + sid + '.png', bbox_inches='tight')\n",
    "    \n",
    "    plt.show()"
   ]
  },
  {
   "cell_type": "code",
   "execution_count": null,
   "metadata": {},
   "outputs": [],
   "source": []
  }
 ],
 "metadata": {
  "kernelspec": {
   "display_name": "Python 3",
   "language": "python",
   "name": "python3"
  },
  "language_info": {
   "codemirror_mode": {
    "name": "ipython",
    "version": 3
   },
   "file_extension": ".py",
   "mimetype": "text/x-python",
   "name": "python",
   "nbconvert_exporter": "python",
   "pygments_lexer": "ipython3",
   "version": "3.7.6"
  }
 },
 "nbformat": 4,
 "nbformat_minor": 4
}
