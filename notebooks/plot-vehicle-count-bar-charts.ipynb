{
 "cells": [
  {
   "cell_type": "code",
   "execution_count": null,
   "metadata": {},
   "outputs": [],
   "source": [
    "!pip install smopy"
   ]
  },
  {
   "cell_type": "markdown",
   "metadata": {},
   "source": [
    "# Vehicle Counts per Day\n",
    "\n",
    "### Comparision charts of each CCTV camera count per day for the last 4 weeks"
   ]
  },
  {
   "cell_type": "code",
   "execution_count": null,
   "metadata": {},
   "outputs": [],
   "source": [
    "from uo_bar_charts import BarChart\n",
    "\n",
    "\n",
    "def rename(db_name):\n",
    "\n",
    "    return db_name.replace('PER_PEOPLE_','')\n",
    "\n",
    "chart = BarChart('vehicle')\n",
    "\n",
    "for sensor_name, map_path,bars_path in chart.plot_data(rename):\n",
    "    display(HTML('<h2>{sensor}</h2>'.format(sensor=sensor_name)))\n",
    "    display(Image(os.path.abspath(map_path)))\n",
    "    display(Image(os.path.abspath(bars_path)))"
   ]
  },
  {
   "cell_type": "code",
   "execution_count": null,
   "metadata": {},
   "outputs": [],
   "source": []
  }
 ],
 "metadata": {
  "kernelspec": {
   "display_name": "Python 3",
   "language": "python",
   "name": "python3"
  },
  "language_info": {
   "codemirror_mode": {
    "name": "ipython",
    "version": 3
   },
   "file_extension": ".py",
   "mimetype": "text/x-python",
   "name": "python",
   "nbconvert_exporter": "python",
   "pygments_lexer": "ipython3",
   "version": "3.8.2"
  },
  "pycharm": {
   "stem_cell": {
    "cell_type": "raw",
    "metadata": {
     "collapsed": false
    },
    "source": []
   }
  }
 },
 "nbformat": 4,
 "nbformat_minor": 4
}
