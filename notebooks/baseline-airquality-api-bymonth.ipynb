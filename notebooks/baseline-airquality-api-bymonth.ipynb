{
 "cells": [
  {
   "cell_type": "markdown",
   "metadata": {},
   "source": [
    "### Extracts all data from each precision station for 2017-2019. Not all is used now, but allows for potential future analysis"
   ]
  },
  {
   "cell_type": "code",
   "execution_count": null,
   "metadata": {},
   "outputs": [],
   "source": [
    "import requests\n",
    "import pandas as pd\n",
    "import io\n",
    "import urllib.request\n",
    "import gc\n",
    "from time import strptime\n",
    "import json\n",
    "import calendar\n",
    "from datetime import datetime"
   ]
  },
  {
   "cell_type": "code",
   "execution_count": null,
   "metadata": {},
   "outputs": [],
   "source": [
    "## List of months\n",
    "months = pd.date_range('2017-01-01','2020-02-29', \n",
    "              freq='MS').strftime(\"%Y%m\").tolist()"
   ]
  },
  {
   "cell_type": "code",
   "execution_count": null,
   "metadata": {},
   "outputs": [],
   "source": [
    "## Get Sensor Metadata, create sensor list\n",
    "r = requests.get('https://newcastle.urbanobservatory.ac.uk/api/v1.1/sensors/csv/?broker=aq_mesh_api&search=mon')\n",
    "sensorInfo = pd.read_csv(io.StringIO(r.text))\n",
    "sensorList = sensorInfo[\"Sensor Name\"].to_list()"
   ]
  },
  {
   "cell_type": "code",
   "execution_count": null,
   "metadata": {},
   "outputs": [],
   "source": [
    "combBaseline = pd.DataFrame()"
   ]
  },
  {
   "cell_type": "code",
   "execution_count": null,
   "metadata": {},
   "outputs": [],
   "source": [
    "## Call packaged into monthly chunks \n",
    "## Takes around 1hr20mins\n",
    "print(datetime.now().strftime('%H:%M:%S'))\n",
    "for s in sensorList:\n",
    "    print(s)\n",
    "    for m in months:      \n",
    "        dataCall = 'https://newcastle.urbanobservatory.ac.uk/api/v1.1/sensors/'+s+'/data/csv/'\n",
    "            \n",
    "        startDate = m + '01'\n",
    "        endDate = m + str(calendar.monthrange(int(m[:4]), int(m[-2:]))[1])\n",
    "\n",
    "        params = dict(\n",
    "                    starttime=startDate,\n",
    "                    endtime=endDate\n",
    "        )\n",
    "            \n",
    "        r = requests.get(dataCall,params)\n",
    "            \n",
    "        ## Check if API call succesfuly, merge into one dataframe \n",
    "        if r.status_code != 404:\n",
    "            sensorData = pd.read_csv(io.StringIO(r.text))\n",
    "            combBaseline = combBaseline.append(sensorData, ignore_index=True)\n",
    "print(datetime.now().strftime('%H:%M:%S'))"
   ]
  },
  {
   "cell_type": "code",
   "execution_count": null,
   "metadata": {},
   "outputs": [],
   "source": [
    "## Pickle out\n",
    "pd.to_pickle(combBaseline, '../cache/baseline-airquality-airmon.pkl')\n",
    "gc.collect()"
   ]
  }
 ],
 "metadata": {
  "kernelspec": {
   "display_name": "Python 3",
   "language": "python",
   "name": "python3"
  },
  "language_info": {
   "codemirror_mode": {
    "name": "ipython",
    "version": 3
   },
   "file_extension": ".py",
   "mimetype": "text/x-python",
   "name": "python",
   "nbconvert_exporter": "python",
   "pygments_lexer": "ipython3",
   "version": "3.7.6"
  }
 },
 "nbformat": 4,
 "nbformat_minor": 4
}
