{
 "cells": [
  {
   "cell_type": "code",
   "execution_count": null,
   "metadata": {},
   "outputs": [],
   "source": [
    "import os\n",
    "\n",
    "from datetime import datetime\n",
    "import matplotlib.pyplot as plt\n",
    "\n",
    "import pandas as pd\n",
    "from IPython.display import display,Markdown\n",
    "import matplotlib.dates as mdates\n",
    "\n",
    "saveFig = True\n",
    "nsets = {\n",
    "    'Central Station Taxi Rank':[1409, 1410],  #\n",
    "    'Near Central Station': [1408, 1414],  #\n",
    "    'Newcastle Helix':[2604, 2606, 2603, 2602, 2605, ],  #\n",
    "    'Gosforth High Street':[2753, 2752, ],  # nr gosforth high street\n",
    "    'Regent Centre Interchange':[2902, 2904, 2903, ],  # regent centre metro + bus stop (3/6)\n",
    "    'Symphony Court, Durham Road':[1207, 1206, 1202, ],  #\n",
    "    \"St George's Church, Low Fell\":[1006, 1007, ], # 1002, ],  #\n",
    "   # 'Westgate Rd - St James Blvd Intersection':[1702, ], # 1701 #\n",
    "}\n",
    "\n"
   ]
  },
  {
   "cell_type": "markdown",
   "metadata": {},
   "source": [
    "# Noise levels across Newcastle upon Tyne\n",
    "\n",
    "The data represents daily median levels of noise, dervived from sensors deployed around Newcastle. Multiple sensors are combined when they are close."
   ]
  },
  {
   "cell_type": "code",
   "execution_count": null,
   "metadata": {
    "collapsed": false,
    "jupyter": {
     "outputs_hidden": false
    },
    "pycharm": {
     "name": "#%%\n"
    }
   },
   "outputs": [],
   "source": [
    "\n",
    "nmin = 30\n",
    "\n",
    "colourUp = '#f64a8a'\n",
    "colourDown = '#233067'\n",
    "resample_folder_path = os.path.join('../cache/','noise', 'processed')\n",
    "\n",
    "for title,nset in nsets.items():\n",
    "    frames = []\n",
    "    for i,sensor_id in enumerate(nset):\n",
    "        sensor_name = f'PER_EMOTE_{sensor_id}'\n",
    "        df = pd.read_pickle(os.path.join(resample_folder_path,\n",
    "                                         'noise-data-{sensor_name}.pkl'.format(sensor_name=sensor_name)))\n",
    "        if ((df['data_prop']< 0.3).value_counts()[False]/len(df.index)) >= 0.85:\n",
    "            frames.append(df)\n",
    "    if frames:\n",
    "        fig, plots = plt.subplots(\n",
    "             len(frames), 1,\n",
    "             figsize = (18, 1.5 * len(frames)),\n",
    "            dpi=300\n",
    "        )\n",
    "        # # Or equivalently,  \"plt.tight_layout()\"\n",
    "        fig.tight_layout()\n",
    "        display(Markdown('## '+title))\n",
    "\n",
    "    if len(frames) == 1:\n",
    "        plots = [plots]\n",
    "\n",
    "\n",
    "    for i,df in enumerate(frames):\n",
    "\n",
    "        df = df[df['data_prop'] > 0.3]\n",
    "\n",
    "        df = df[df.index >= datetime(2020,1,1)]\n",
    "\n",
    "        dfWeekdays = df[df.index.to_series().apply(\n",
    "            lambda t: t.strftime('%A') not in ['Saturday', 'Sunday']\n",
    "        )]\n",
    "        dfWeekends = df[df.index.to_series().apply(\n",
    "            lambda t: t.strftime('%A') in ['Saturday', 'Sunday']\n",
    "        )]\n",
    "\n",
    "        plots[i].bar(\n",
    "            dfWeekdays.index,\n",
    "            dfWeekdays['Value'],\n",
    "            color=colourDown,\n",
    "            label='Noise level on weekdays'\n",
    "        )\n",
    "        plots[i].bar(\n",
    "            dfWeekends.index,\n",
    "            dfWeekends['Value'],\n",
    "            color=colourUp,\n",
    "            label='Noise level on weekends'\n",
    "        )\n",
    "        if i==0:\n",
    "            plots[i].legend(\n",
    "                loc='upper right',\n",
    "                ncol=2,\n",
    "                fontsize=11,\n",
    "                frameon=False,\n",
    "                bbox_to_anchor=(1.0, 1.35)\n",
    "            )\n",
    "        first = False\n",
    "        plots[i].set_ylim([55,80])\n",
    "        monthyearFmt = mdates.DateFormatter('%b %Y')\n",
    "        plots[i].xaxis.set_major_formatter(monthyearFmt)\n",
    "        plots[i].set_xlim([datetime(2020,1,1),datetime.now()])\n",
    "\n",
    "    plt.show()\n",
    "\n"
   ]
  },
  {
   "cell_type": "code",
   "execution_count": null,
   "metadata": {},
   "outputs": [],
   "source": []
  }
 ],
 "metadata": {
  "kernelspec": {
   "display_name": "Python 3",
   "language": "python",
   "name": "python3"
  },
  "language_info": {
   "codemirror_mode": {
    "name": "ipython",
    "version": 3
   },
   "file_extension": ".py",
   "mimetype": "text/x-python",
   "name": "python",
   "nbconvert_exporter": "python",
   "pygments_lexer": "ipython3",
   "version": "3.8.6"
  }
 },
 "nbformat": 4,
 "nbformat_minor": 4
}
