{
 "cells": [
  {
   "cell_type": "code",
   "execution_count": 1,
   "metadata": {},
   "outputs": [],
   "source": [
    "import json\n",
    "import requests\n",
    "\n",
    "import pandas as pd\n",
    "import io\n",
    "\n",
    "import datetime\n",
    "\n",
    "import os\n",
    "\n",
    "if not os.path.exists('../cache/bar-charts/'):\n",
    "    os.makedirs('../cache/bar-charts/')\n",
    "if not os.path.exists('../cache/bar-charts/people-data/'):\n",
    "    os.makedirs('../cache/bar-charts/people-data/')\n",
    "if not os.path.exists('../cache/bar-charts/people-geojson/'):\n",
    "    os.makedirs('../cache/bar-charts/people-geojson/')\n",
    "end_date = datetime.datetime.now()\n",
    "last_monday = end_date - datetime.timedelta(days=end_date.weekday())\n",
    "start_date = last_monday - datetime.timedelta(21)\n",
    "\n",
    "dt_format = \"%Y%m%d%H%M%S\"\n",
    "url = 'http://uoweb3.ncl.ac.uk:80/metadata/api/sensors?theme=People'\n",
    "\n",
    "\n",
    "api_url = 'http://uoweb3.ncl.ac.uk/api/v1.1/sensors/{sensor_name}/data/csv/'\n",
    "r = requests.get(url)\n",
    "\n",
    "for item in r.json()['items']:\n",
    "    json.dump(\n",
    "        item['current_location']['geojson'],\n",
    "        open(\n",
    "            os.path.join('../cache/bar-charts/people-geojson/{sensor_name}.json'.format(sensor_name=item['name'])),\n",
    "            'w'\n",
    "        )\n",
    "              )\n",
    "    params = {\n",
    "        'starttime': (start_date - datetime.timedelta(days=0)).strftime(dt_format),\n",
    "        'endtime': (end_date - datetime.timedelta(days=0)).strftime(dt_format),\n",
    "        'data_variable': ','.join(\n",
    "            [variable['name'] for variable in item['variables'] if 'walk' in variable['name'].lower()]),\n",
    "    }\n",
    "    r = requests.get(api_url.format(sensor_name=item['name']), params)\n",
    "    frame = pd.read_csv(io.StringIO(r.content.decode('utf-8')))\n",
    "\n",
    "    frame.to_pickle('../cache/bar-charts/people-data/{sensor_name}.tar.gz'.format(sensor_name=item['name']))"
   ]
  },
  {
   "cell_type": "code",
   "execution_count": null,
   "metadata": {},
   "outputs": [],
   "source": []
  }
 ],
 "metadata": {
  "kernelspec": {
   "display_name": "Python 3",
   "language": "python",
   "name": "python3"
  },
  "language_info": {
   "codemirror_mode": {
    "name": "ipython",
    "version": 3
   },
   "file_extension": ".py",
   "mimetype": "text/x-python",
   "name": "python",
   "nbconvert_exporter": "python",
   "pygments_lexer": "ipython3",
   "version": "3.6.9"
  }
 },
 "nbformat": 4,
 "nbformat_minor": 4
}
