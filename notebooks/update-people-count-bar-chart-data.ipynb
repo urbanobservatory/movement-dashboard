{
 "cells": [
  {
   "cell_type": "code",
   "execution_count": null,
   "outputs": [],
   "source": [
    "!pip install smopy"
   ],
   "metadata": {
    "collapsed": false,
    "pycharm": {
     "name": "#%%\n"
    }
   }
  },
  {
   "cell_type": "code",
   "execution_count": 1,
   "outputs": [
    {
     "name": "stdout",
     "text": [
      "http://uoweb3.ncl.ac.uk:80/metadata/api/sensors/?theme=People\n",
      "cacheing sensor:  PER_PEOPLE_BLACKETT-BOOTS(1/15)\n",
      "cacheing sensor:  PER_PEOPLE_THE_CORE_LINE_0(2/15)\n",
      "cacheing sensor:  PER_PEOPLE_THE_CORE_LINE_1(3/15)\n",
      "cacheing sensor:  PER_PEOPLE_BLACKETT-NORTHUMBERLAND-W(4/15)\n",
      "cacheing sensor:  PER_PEOPLE_USB_LINE_0(5/15)\n",
      "cacheing sensor:  PER_PEOPLE_NORTHUMERLAND_LINE_SHORT_DISTANCE_HEAD_6(6/15)\n",
      "cacheing sensor:  PER_PEOPLE_NORTHUMERLAND_LINE_SHORT_DISTANCE_HEAD_3(7/15)\n",
      "cacheing sensor:  PER_PEOPLE_NORTHUMERLAND_LINE_LONG_DISTANCE_HEAD_1(8/15)\n",
      "cacheing sensor:  PER_PEOPLE_NORTHUMERLAND_LINE_SHORT_DISTANCE_HEAD_5(9/15)\n",
      "cacheing sensor:  PER_PEOPLE_NORTHUMERLAND_LINE_LONG_DISTANCE_HEAD_0(10/15)\n",
      "cacheing sensor:  PER_PEOPLE_NORTHUMERLAND_LINE_SHORT_DISTANCE_HEAD_2(11/15)\n",
      "cacheing sensor:  PER_PEOPLE_NORTHUMERLAND_LINE_SHORT_DISTANCE_HEAD_0(12/15)\n",
      "cacheing sensor:  PER_PEOPLE_NORTHUMERLAND_LINE_SHORT_DISTANCE_HEAD_1(13/15)\n",
      "cacheing sensor:  PER_PEOPLE_NORTHUMERLAND_LINE_SHORT_DISTANCE_HEAD_4(14/15)\n",
      "cacheing sensor:  PER_PEOPLE_NORTHUMERLAND_LINE_MID_DISTANCE_HEAD_0(15/15)\n"
     ],
     "output_type": "stream"
    }
   ],
   "source": [
    "from uo_bar_charts import BarChart\n",
    "import datetime\n",
    "chart = BarChart('people')\n",
    "\n",
    "end_date = datetime.datetime.now()\n",
    "last_monday = end_date - datetime.timedelta(days=end_date.weekday())\n",
    "start_date = last_monday - datetime.timedelta(21)\n",
    "chart.cache_data({'theme':'People'},{'theme':'People'},start_date,end_date,)\n"
   ],
   "metadata": {
    "collapsed": false,
    "pycharm": {
     "name": "#%%\n",
     "is_executing": false
    }
   }
  }
 ],
 "metadata": {
  "kernelspec": {
   "display_name": "PyCharm (ipython_covid)",
   "language": "python",
   "name": "pycharm-c9f78ef"
  },
  "language_info": {
   "codemirror_mode": {
    "name": "ipython",
    "version": 3
   },
   "file_extension": ".py",
   "mimetype": "text/x-python",
   "name": "python",
   "nbconvert_exporter": "python",
   "pygments_lexer": "ipython3",
   "version": "3.8.2"
  },
  "pycharm": {
   "stem_cell": {
    "cell_type": "raw",
    "source": [],
    "metadata": {
     "collapsed": false
    }
   }
  }
 },
 "nbformat": 4,
 "nbformat_minor": 4
}