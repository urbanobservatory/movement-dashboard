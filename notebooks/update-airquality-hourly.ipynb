{
 "cells": [
  {
   "cell_type": "markdown",
   "metadata": {},
   "source": [
    "### Pulls \"Recent\" data from air monitoring station - 9th March onwards"
   ]
  },
  {
   "cell_type": "code",
   "execution_count": null,
   "metadata": {},
   "outputs": [],
   "source": [
    "import requests\n",
    "import pandas as pd\n",
    "import io\n",
    "from datetime import datetime, timedelta, date\n",
    "import urllib.request\n",
    "import gc\n",
    "import dateutil.tz"
   ]
  },
  {
   "cell_type": "code",
   "execution_count": null,
   "metadata": {},
   "outputs": [],
   "source": [
    "## Pull Details of all Precision Monitoring Stations\n",
    "r = requests.get('https://newcastle.urbanobservatory.ac.uk/api/v1.1/sensors/csv/?broker=aq_mesh_api&search=mon')\n",
    "sensorInfo = pd.read_csv(io.StringIO(r.text) )\n",
    "sensorList = sensorInfo[\"Sensor Name\"].to_list()"
   ]
  },
  {
   "cell_type": "code",
   "execution_count": null,
   "metadata": {},
   "outputs": [],
   "source": [
    "## Get current time, add 1 hour\n",
    "tzLocal = dateutil.tz.gettz('Europe/London')\n",
    "now = datetime.now(tzLocal)\n",
    "now = now + timedelta(hours=1)\n",
    "now = now.strftime('%Y%m%d%H%M%S')"
   ]
  },
  {
   "cell_type": "code",
   "execution_count": null,
   "metadata": {},
   "outputs": [],
   "source": [
    "combRecentData = pd.DataFrame()"
   ]
  },
  {
   "cell_type": "code",
   "execution_count": null,
   "metadata": {},
   "outputs": [],
   "source": [
    "for s in sensorList:\n",
    "    apiCall = 'https://newcastle.urbanobservatory.ac.uk/api/v1.1/sensors/'+s+'/data/csv/'\n",
    "    ## Pull data from 2nd March onwards - approx start of emergency measures was 17th March   \n",
    "    params = dict(starttime='20200302000000',endtime=now)\n",
    "\n",
    "    r = requests.get(apiCall,params)\n",
    "    if r.status_code != 404:\n",
    "        sensorData = pd.read_csv(io.StringIO(r.text))\n",
    "        combRecentData = combRecentData.append(sensorData, ignore_index=True)"
   ]
  },
  {
   "cell_type": "code",
   "execution_count": null,
   "metadata": {},
   "outputs": [],
   "source": [
    "pd.to_pickle(combRecentData, '../cache/update-airquality-airmon.pkl')\n",
    "gc.collect()"
   ]
  }
 ],
 "metadata": {
  "kernelspec": {
   "display_name": "Python 3",
   "language": "python",
   "name": "python3"
  },
  "language_info": {
   "codemirror_mode": {
    "name": "ipython",
    "version": 3
   },
   "file_extension": ".py",
   "mimetype": "text/x-python",
   "name": "python",
   "nbconvert_exporter": "python",
   "pygments_lexer": "ipython3",
   "version": "3.7.6"
  }
 },
 "nbformat": 4,
 "nbformat_minor": 4
}
