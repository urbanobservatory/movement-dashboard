{
 "cells": [
  {
   "cell_type": "code",
   "execution_count": 1,
   "metadata": {
    "colab": {},
    "colab_type": "code",
    "id": "vga1znuak7QB"
   },
   "outputs": [],
   "source": [
    "import pandas as pd\n",
    "import numpy as np\n",
    "import json\n",
    "import math\n",
    "import urllib.request\n",
    "import dateutil.parser\n",
    "import dateutil.rrule\n",
    "import datetime\n",
    "import pickle\n",
    "import gc"
   ]
  },
  {
   "cell_type": "code",
   "execution_count": 2,
   "metadata": {
    "colab": {},
    "colab_type": "code",
    "id": "44C0MsGOKSKn"
   },
   "outputs": [
    {
     "name": "stdout",
     "output_type": "stream",
     "text": [
      "Baseline data from 2019-03-15 00:00:00 to 2020-03-13 23:59:59\n"
     ]
    }
   ],
   "source": [
    "# Used across all of the plots\n",
    "dateToday = datetime.datetime.combine(datetime.date.today(), datetime.datetime.min.time())\n",
    "\n",
    "# Levels would have been relatively normal up until Friday 13 March, so take a year before that date\n",
    "baselineEnd = datetime.datetime.strptime('2020-03-13T23:59:59Z', '%Y-%m-%dT%H:%M:%SZ')\n",
    "baselineStart = baselineEnd - pd.Timedelta(days=365) + pd.Timedelta(seconds=1)\n",
    "\n",
    "print('Baseline data from %s to %s' % (baselineStart, baselineEnd))"
   ]
  },
  {
   "cell_type": "code",
   "execution_count": null,
   "metadata": {
    "colab": {},
    "colab_type": "code",
    "id": "s4KbF-AAk7QH"
   },
   "outputs": [
    {
     "name": "stdout",
     "output_type": "stream",
     "text": [
      "Requesting pedestrian data for Mar 2019\n"
     ]
    }
   ],
   "source": [
    "windowSize = 30\n",
    "\n",
    "peopleRequestBase = 'https://newcastle.urbanobservatory.ac.uk/api/v1.1/sensors/data/json/'\n",
    "peopleRequestVariables = [\n",
    "    'Walking North East',\n",
    "    'Walking North West',\n",
    "    'Walking South East',\n",
    "    'Walking North',\n",
    "    'Walking South',\n",
    "    'Walking East',\n",
    "    'Walking West'\n",
    "]\n",
    "\n",
    "peopleDataRaw = None\n",
    "\n",
    "for windowStart in dateutil.rrule.rrule(\n",
    "  dateutil.rrule.DAILY,\n",
    "  interval=windowSize,\n",
    "  dtstart=baselineStart,\n",
    "  until=baselineEnd\n",
    "):  \n",
    "    windowEnd = windowStart + pd.Timedelta(days=windowSize) - pd.Timedelta(seconds=1)\n",
    "    \n",
    "    if windowEnd > baselineEnd:\n",
    "        windowEnd = baselineEnd\n",
    "        \n",
    "    peopleRequestIRI = ('%s?variable=%s&starttime=%s&endtime=%s') % (\n",
    "        peopleRequestBase,\n",
    "        ','.join(str(x).replace(' ', '%20') for x in peopleRequestVariables),\n",
    "        windowStart.strftime('%Y%m%d%H%M%S'),\n",
    "        windowEnd.strftime('%Y%m%d%H%M%S')\n",
    "    )\n",
    "    \n",
    "    print('Requesting pedestrian data for %s' % windowStart.strftime('%b %Y'))\n",
    "\n",
    "    peopleDataWindow = json.loads(\n",
    "      urllib\n",
    "        .request\n",
    "        .urlopen(peopleRequestIRI)\n",
    "        .read()\n",
    "        .decode('utf-8')\n",
    "    )['sensors']\n",
    "    \n",
    "    if peopleDataRaw is None:\n",
    "        peopleDataRaw = peopleDataWindow\n",
    "    else:\n",
    "        for sensor in peopleDataWindow:\n",
    "            for variable in sensor['data']:\n",
    "                targetSensor = next(s for s in peopleDataRaw if s['Sensor Name'] == sensor['Sensor Name'])\n",
    "                \n",
    "                if variable not in targetSensor['data']:\n",
    "                    continue\n",
    "                \n",
    "                targetVariable = targetSensor['data'][variable]\n",
    "                \n",
    "                print('  Adding %u items to %u others for %s on %s' % (\n",
    "                    len(sensor['data'][variable]),\n",
    "                    len(targetSensor['data'][variable]),\n",
    "                    variable,\n",
    "                    targetSensor['Sensor Name']['0']\n",
    "                ))\n",
    "                \n",
    "                targetVariable.extend(sensor['data'][variable])\n",
    "                \n",
    "    peopleDataWindow = None\n",
    "    gc.collect()"
   ]
  },
  {
   "cell_type": "code",
   "execution_count": null,
   "metadata": {
    "colab": {
     "base_uri": "https://localhost:8080/",
     "height": 35
    },
    "colab_type": "code",
    "id": "l9Nx_ycUk7QL",
    "outputId": "f76d8670-72f5-48d9-cbf4-10aa020bf970"
   },
   "outputs": [],
   "source": [
    "print('Obtained data from %u sensors.' % len(peopleDataRaw))"
   ]
  },
  {
   "cell_type": "code",
   "execution_count": null,
   "metadata": {},
   "outputs": [],
   "source": [
    "pickle.dump(peopleDataRaw, open('../cache/baseline-pedestrian-flow-api-json.pkl', 'wb'))\n",
    "\n",
    "peopleDataRaw = None\n",
    "gc.collect()"
   ]
  },
  {
   "cell_type": "code",
   "execution_count": null,
   "metadata": {},
   "outputs": [],
   "source": []
  }
 ],
 "metadata": {
  "kernelspec": {
   "display_name": "Python 3",
   "language": "python",
   "name": "python3"
  },
  "language_info": {
   "codemirror_mode": {
    "name": "ipython",
    "version": 3
   },
   "file_extension": ".py",
   "mimetype": "text/x-python",
   "name": "python",
   "nbconvert_exporter": "python",
   "pygments_lexer": "ipython3",
   "version": "3.7.6"
  }
 },
 "nbformat": 4,
 "nbformat_minor": 4
}
